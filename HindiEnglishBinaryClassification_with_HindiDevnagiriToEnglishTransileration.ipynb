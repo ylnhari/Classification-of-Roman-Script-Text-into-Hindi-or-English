{
 "cells": [
  {
   "cell_type": "code",
   "execution_count": 1,
   "id": "c7bd3afb",
   "metadata": {},
   "outputs": [],
   "source": [
    "import pandas as pd\n",
    "from tqdm import tqdm"
   ]
  },
  {
   "cell_type": "markdown",
   "id": "588477ec",
   "metadata": {},
   "source": [
    "# Read Consonants and Vowels"
   ]
  },
  {
   "cell_type": "markdown",
   "id": "13630e22",
   "metadata": {},
   "source": [
    "## Hardcoded vowels and consonants"
   ]
  },
  {
   "cell_type": "code",
   "execution_count": 6,
   "id": "a7924fc4",
   "metadata": {},
   "outputs": [],
   "source": [
    "from collections import OrderedDict\n",
    "\n",
    "vowels = OrderedDict([\n",
    "('ँ','n'),\n",
    "('ं','n'),\n",
    "('ः','a'),\n",
    "('अ','a'), \n",
    "('आ','aa'), \n",
    "('इ','i'), \n",
    "('ई','ee'), \n",
    "('उ','u'), \n",
    "('ऊ','oo'), \n",
    "('ऋ','ri'), \n",
    "('ए','e'), \n",
    "('ऐ','ae'), \n",
    "('ओ','o'), \n",
    "('औ','au'), \n",
    "('ा','a'), \n",
    "('ि','i'), \n",
    "('ी','i'), \n",
    "('ु','u'), \n",
    "('ू','oo'), \n",
    "('ृ','ri'), \n",
    "('े','e'), \n",
    "('ै','ai'), \n",
    "('ो','o'), \n",
    "('ौ','au')\n",
    "])\n",
    "\n",
    "consonants = OrderedDict([\n",
    "('क','k'), \n",
    "('ख','kh'), \n",
    "('ग','g'), \n",
    "('घ','gh'), \n",
    "('ङ','ng'),\n",
    "\n",
    "('च','ch'), \n",
    "('छ','chh'), \n",
    "('ज','j'), \n",
    "('ज़','z'),\n",
    "('ज़','z'), #these two are very different, see them in unicode by 'ज़'.encode('utf-8'). You'll see.\n",
    "('झ','jh'), \n",
    "('ञ','nj'), \n",
    "\n",
    "('ट','t'), \n",
    "('ठ','th'), \n",
    "('ड','d'), \n",
    "('ड़','r'),\n",
    "('ड़','r'), #these two are very different, see them in unicode by 'ड़'.encode('utf-8'). You'll see.\n",
    "('ढ','dh'), \n",
    "('ण','n'), \n",
    "\n",
    "('त','t'), \n",
    "('थ','th'), \n",
    "('द','d'), \n",
    "('ध','dh'), \n",
    "('न','n'), \n",
    "\n",
    "('प','p'), \n",
    "('फ','ph'), \n",
    "('फ़','f'),\n",
    "('फ़','f'), #these two फ़ are very different, see them in unicode by 'फ़'.encode('utf-8'). You'll see.\n",
    "('ब','b'), \n",
    "('भ','bh'), \n",
    "('म','m'), \n",
    "\n",
    "('य','y'), \n",
    "('र','r'), \n",
    "('ल','l'), \n",
    "('व','v'), \n",
    "('श','sh'), \n",
    "\n",
    "('ष','sh'), \n",
    "('स','s'), \n",
    "('ह','h'),\n",
    "('क्ष','ksh'),\n",
    "('त्र','tr'),\n",
    "('ज्ञ','gy')])"
   ]
  },
  {
   "cell_type": "markdown",
   "id": "31165563",
   "metadata": {},
   "source": [
    "# Transilirate Devanagari(Hindi) to Roman/Latin(English Alphabets)"
   ]
  },
  {
   "cell_type": "code",
   "execution_count": 7,
   "id": "9dc0c9f7",
   "metadata": {},
   "outputs": [
    {
     "name": "stderr",
     "output_type": "stream",
     "text": [
      "100%|██████████████████████████████████████████████████████████████████████████████████████████████████████████████████████| 1/1 [00:00<00:00, 999.36it/s]"
     ]
    },
    {
     "name": "stdout",
     "output_type": "stream",
     "text": [
      "['mera nam hari hai']\n"
     ]
    },
    {
     "name": "stderr",
     "output_type": "stream",
     "text": [
      "\n"
     ]
    }
   ],
   "source": [
    "def convert_from_devanagiri_to_roman(sentences, vowels, consonants):\n",
    "    \"\"\"\n",
    "    Function that takes Hindi Senteces (Devanagari Script Sentences) and convert them\n",
    "    into Roman/Latin Script Representations. \n",
    "    i,e how would we write the sentences using english alphabets ?\n",
    "    \"\"\"\n",
    "    output = []\n",
    "    for x in tqdm(sentences):\n",
    "        str1 = \"\"\n",
    "        for y in x.split():\n",
    "            for i in range(len(y)):\n",
    "                if (i+1<len(y) and y[i+1].strip()==' ़'.strip()):\n",
    "                    c = y[i]+y[i+1]\n",
    "                    p=2\n",
    "                else:\n",
    "                    c = y[i]\n",
    "                    p=1\n",
    "                if (c in vowels.keys()):\n",
    "                    str1 = str1 + vowels[c]\n",
    "                elif (c in consonants.keys()):\n",
    "                    if(i+p<len(y) and y[i+p] in consonants.keys()):\n",
    "                        if ((c=='झ' and i!=0) or (i!=0 and i+p+1<len(y) and y[i+p+1] in vowels.keys())): # add 'a' after 'jh', only if झ appears in the starting of the word\n",
    "                            str1 = str1 + consonants[c]\n",
    "                        else:\n",
    "                            str1 = str1 + consonants[c]+'a'\n",
    "                    else:\n",
    "                        str1 = str1 + consonants[c]\n",
    "                elif y[i] in ['\\n','\\t',' ','!',',','।','-',':','\\\\','_','?'] or c.isalnum():\n",
    "                    str1 = str1 + c.replace('।','.')\n",
    "            str1 = str1 + \" \"\n",
    "        output.append(str1.strip())\n",
    "\n",
    "    return output\n",
    "sentences = ['मेरा नाम हरि है'] # list of sentences\n",
    "print(convert_from_devanagiri_to_roman(sentences, vowels, consonants))"
   ]
  },
  {
   "cell_type": "markdown",
   "id": "4feb363c",
   "metadata": {},
   "source": [
    "# Read Hindi English Translation Dataset\n",
    "\n",
    "- download input dataset from here https://www.kaggle.com/datasets/vaibhavkumar11/hindi-english-parallel-corpus"
   ]
  },
  {
   "cell_type": "code",
   "execution_count": 8,
   "id": "edd0f251",
   "metadata": {},
   "outputs": [],
   "source": [
    "df = pd.read_csv('./hindi_english_parallel.csv')\n",
    "df = df[~df.isnull().any(axis=1)]"
   ]
  },
  {
   "cell_type": "code",
   "execution_count": 9,
   "id": "0776c64c",
   "metadata": {},
   "outputs": [
    {
     "data": {
      "text/html": [
       "<div>\n",
       "<style scoped>\n",
       "    .dataframe tbody tr th:only-of-type {\n",
       "        vertical-align: middle;\n",
       "    }\n",
       "\n",
       "    .dataframe tbody tr th {\n",
       "        vertical-align: top;\n",
       "    }\n",
       "\n",
       "    .dataframe thead th {\n",
       "        text-align: right;\n",
       "    }\n",
       "</style>\n",
       "<table border=\"1\" class=\"dataframe\">\n",
       "  <thead>\n",
       "    <tr style=\"text-align: right;\">\n",
       "      <th></th>\n",
       "      <th>hindi</th>\n",
       "      <th>english</th>\n",
       "    </tr>\n",
       "  </thead>\n",
       "  <tbody>\n",
       "    <tr>\n",
       "      <th>0</th>\n",
       "      <td>अपने अनुप्रयोग को पहुंचनीयता व्यायाम का लाभ दें</td>\n",
       "      <td>Give your application an accessibility workout</td>\n",
       "    </tr>\n",
       "    <tr>\n",
       "      <th>1</th>\n",
       "      <td>एक्सेर्साइसर पहुंचनीयता अन्वेषक</td>\n",
       "      <td>Accerciser Accessibility Explorer</td>\n",
       "    </tr>\n",
       "    <tr>\n",
       "      <th>2</th>\n",
       "      <td>निचले पटल के लिए डिफोल्ट प्लग-इन खाका</td>\n",
       "      <td>The default plugin layout for the bottom panel</td>\n",
       "    </tr>\n",
       "    <tr>\n",
       "      <th>3</th>\n",
       "      <td>ऊपरी पटल के लिए डिफोल्ट प्लग-इन खाका</td>\n",
       "      <td>The default plugin layout for the top panel</td>\n",
       "    </tr>\n",
       "    <tr>\n",
       "      <th>4</th>\n",
       "      <td>उन प्लग-इनों की सूची जिन्हें डिफोल्ट रूप से नि...</td>\n",
       "      <td>A list of plugins that are disabled by default</td>\n",
       "    </tr>\n",
       "  </tbody>\n",
       "</table>\n",
       "</div>"
      ],
      "text/plain": [
       "                                               hindi  \\\n",
       "0    अपने अनुप्रयोग को पहुंचनीयता व्यायाम का लाभ दें   \n",
       "1                    एक्सेर्साइसर पहुंचनीयता अन्वेषक   \n",
       "2              निचले पटल के लिए डिफोल्ट प्लग-इन खाका   \n",
       "3               ऊपरी पटल के लिए डिफोल्ट प्लग-इन खाका   \n",
       "4  उन प्लग-इनों की सूची जिन्हें डिफोल्ट रूप से नि...   \n",
       "\n",
       "                                          english  \n",
       "0  Give your application an accessibility workout  \n",
       "1               Accerciser Accessibility Explorer  \n",
       "2  The default plugin layout for the bottom panel  \n",
       "3     The default plugin layout for the top panel  \n",
       "4  A list of plugins that are disabled by default  "
      ]
     },
     "execution_count": 9,
     "metadata": {},
     "output_type": "execute_result"
    }
   ],
   "source": [
    "df.head()"
   ]
  },
  {
   "cell_type": "markdown",
   "id": "d237f6f3",
   "metadata": {},
   "source": [
    "## Transilerate Hindi Texts"
   ]
  },
  {
   "cell_type": "code",
   "execution_count": 10,
   "id": "08e6a3c7",
   "metadata": {},
   "outputs": [
    {
     "name": "stderr",
     "output_type": "stream",
     "text": [
      "100%|████████████████████████████████████████████████████████████████████████████████████████████████████████| 1555727/1555727 [02:06<00:00, 12330.10it/s]\n"
     ]
    }
   ],
   "source": [
    "df['transilerated_hindi'] = convert_from_devanagiri_to_roman(list(df['hindi']), vowels, consonants)"
   ]
  },
  {
   "cell_type": "code",
   "execution_count": 11,
   "id": "24d31aec",
   "metadata": {},
   "outputs": [
    {
     "data": {
      "text/html": [
       "<div>\n",
       "<style scoped>\n",
       "    .dataframe tbody tr th:only-of-type {\n",
       "        vertical-align: middle;\n",
       "    }\n",
       "\n",
       "    .dataframe tbody tr th {\n",
       "        vertical-align: top;\n",
       "    }\n",
       "\n",
       "    .dataframe thead th {\n",
       "        text-align: right;\n",
       "    }\n",
       "</style>\n",
       "<table border=\"1\" class=\"dataframe\">\n",
       "  <thead>\n",
       "    <tr style=\"text-align: right;\">\n",
       "      <th></th>\n",
       "      <th>hindi</th>\n",
       "      <th>english</th>\n",
       "      <th>transilerated_hindi</th>\n",
       "    </tr>\n",
       "  </thead>\n",
       "  <tbody>\n",
       "    <tr>\n",
       "      <th>0</th>\n",
       "      <td>अपने अनुप्रयोग को पहुंचनीयता व्यायाम का लाभ दें</td>\n",
       "      <td>Give your application an accessibility workout</td>\n",
       "      <td>apne anupryog ko pahunchniyta vyayam ka labh den</td>\n",
       "    </tr>\n",
       "    <tr>\n",
       "      <th>1</th>\n",
       "      <td>एक्सेर्साइसर पहुंचनीयता अन्वेषक</td>\n",
       "      <td>Accerciser Accessibility Explorer</td>\n",
       "      <td>eksersaisar pahunchniyta anveshak</td>\n",
       "    </tr>\n",
       "    <tr>\n",
       "      <th>2</th>\n",
       "      <td>निचले पटल के लिए डिफोल्ट प्लग-इन खाका</td>\n",
       "      <td>The default plugin layout for the bottom panel</td>\n",
       "      <td>nichle patal ke lie dipholt plag-in khaka</td>\n",
       "    </tr>\n",
       "    <tr>\n",
       "      <th>3</th>\n",
       "      <td>ऊपरी पटल के लिए डिफोल्ट प्लग-इन खाका</td>\n",
       "      <td>The default plugin layout for the top panel</td>\n",
       "      <td>oopri patal ke lie dipholt plag-in khaka</td>\n",
       "    </tr>\n",
       "    <tr>\n",
       "      <th>4</th>\n",
       "      <td>उन प्लग-इनों की सूची जिन्हें डिफोल्ट रूप से नि...</td>\n",
       "      <td>A list of plugins that are disabled by default</td>\n",
       "      <td>un plag-inon ki soochi jinhen dipholt roop se ...</td>\n",
       "    </tr>\n",
       "  </tbody>\n",
       "</table>\n",
       "</div>"
      ],
      "text/plain": [
       "                                               hindi  \\\n",
       "0    अपने अनुप्रयोग को पहुंचनीयता व्यायाम का लाभ दें   \n",
       "1                    एक्सेर्साइसर पहुंचनीयता अन्वेषक   \n",
       "2              निचले पटल के लिए डिफोल्ट प्लग-इन खाका   \n",
       "3               ऊपरी पटल के लिए डिफोल्ट प्लग-इन खाका   \n",
       "4  उन प्लग-इनों की सूची जिन्हें डिफोल्ट रूप से नि...   \n",
       "\n",
       "                                          english  \\\n",
       "0  Give your application an accessibility workout   \n",
       "1               Accerciser Accessibility Explorer   \n",
       "2  The default plugin layout for the bottom panel   \n",
       "3     The default plugin layout for the top panel   \n",
       "4  A list of plugins that are disabled by default   \n",
       "\n",
       "                                 transilerated_hindi  \n",
       "0   apne anupryog ko pahunchniyta vyayam ka labh den  \n",
       "1                  eksersaisar pahunchniyta anveshak  \n",
       "2          nichle patal ke lie dipholt plag-in khaka  \n",
       "3           oopri patal ke lie dipholt plag-in khaka  \n",
       "4  un plag-inon ki soochi jinhen dipholt roop se ...  "
      ]
     },
     "execution_count": 11,
     "metadata": {},
     "output_type": "execute_result"
    }
   ],
   "source": [
    "df.head()"
   ]
  },
  {
   "cell_type": "markdown",
   "id": "2da3e522",
   "metadata": {},
   "source": [
    "## Prepare Train Dataset"
   ]
  },
  {
   "cell_type": "code",
   "execution_count": 12,
   "id": "2b82895d",
   "metadata": {},
   "outputs": [],
   "source": [
    "english_df = pd.DataFrame(list(df['english']), columns = ['text'])\n",
    "english_df['label'] = 'english'\n",
    "hindi_df = pd.DataFrame(list(df['transilerated_hindi']), columns = ['text'])\n",
    "hindi_df['label'] = 'hindi'\n",
    "train_df = pd.concat([english_df, hindi_df], ignore_index=True)"
   ]
  },
  {
   "cell_type": "code",
   "execution_count": 62,
   "id": "e1b0844a",
   "metadata": {},
   "outputs": [
    {
     "data": {
      "text/html": [
       "<div>\n",
       "<style scoped>\n",
       "    .dataframe tbody tr th:only-of-type {\n",
       "        vertical-align: middle;\n",
       "    }\n",
       "\n",
       "    .dataframe tbody tr th {\n",
       "        vertical-align: top;\n",
       "    }\n",
       "\n",
       "    .dataframe thead th {\n",
       "        text-align: right;\n",
       "    }\n",
       "</style>\n",
       "<table border=\"1\" class=\"dataframe\">\n",
       "  <thead>\n",
       "    <tr style=\"text-align: right;\">\n",
       "      <th></th>\n",
       "      <th>text</th>\n",
       "      <th>label</th>\n",
       "    </tr>\n",
       "  </thead>\n",
       "  <tbody>\n",
       "    <tr>\n",
       "      <th>0</th>\n",
       "      <td>Give your application an accessibility workout</td>\n",
       "      <td>english</td>\n",
       "    </tr>\n",
       "    <tr>\n",
       "      <th>1</th>\n",
       "      <td>Accerciser Accessibility Explorer</td>\n",
       "      <td>english</td>\n",
       "    </tr>\n",
       "    <tr>\n",
       "      <th>2</th>\n",
       "      <td>The default plugin layout for the bottom panel</td>\n",
       "      <td>english</td>\n",
       "    </tr>\n",
       "    <tr>\n",
       "      <th>3</th>\n",
       "      <td>The default plugin layout for the top panel</td>\n",
       "      <td>english</td>\n",
       "    </tr>\n",
       "    <tr>\n",
       "      <th>4</th>\n",
       "      <td>A list of plugins that are disabled by default</td>\n",
       "      <td>english</td>\n",
       "    </tr>\n",
       "  </tbody>\n",
       "</table>\n",
       "</div>"
      ],
      "text/plain": [
       "                                             text    label\n",
       "0  Give your application an accessibility workout  english\n",
       "1               Accerciser Accessibility Explorer  english\n",
       "2  The default plugin layout for the bottom panel  english\n",
       "3     The default plugin layout for the top panel  english\n",
       "4  A list of plugins that are disabled by default  english"
      ]
     },
     "execution_count": 62,
     "metadata": {},
     "output_type": "execute_result"
    }
   ],
   "source": [
    "train_df.head()"
   ]
  },
  {
   "cell_type": "code",
   "execution_count": 63,
   "id": "68d3955a",
   "metadata": {},
   "outputs": [
    {
     "data": {
      "text/html": [
       "<div>\n",
       "<style scoped>\n",
       "    .dataframe tbody tr th:only-of-type {\n",
       "        vertical-align: middle;\n",
       "    }\n",
       "\n",
       "    .dataframe tbody tr th {\n",
       "        vertical-align: top;\n",
       "    }\n",
       "\n",
       "    .dataframe thead th {\n",
       "        text-align: right;\n",
       "    }\n",
       "</style>\n",
       "<table border=\"1\" class=\"dataframe\">\n",
       "  <thead>\n",
       "    <tr style=\"text-align: right;\">\n",
       "      <th></th>\n",
       "      <th>text</th>\n",
       "      <th>label</th>\n",
       "    </tr>\n",
       "  </thead>\n",
       "  <tbody>\n",
       "    <tr>\n",
       "      <th>3111449</th>\n",
       "      <td>Members making oathaffirmation</td>\n",
       "      <td>hindi</td>\n",
       "    </tr>\n",
       "    <tr>\n",
       "      <th>3111450</th>\n",
       "      <td>spashtikaranjhan is updhara ke adhin hani aur ...</td>\n",
       "      <td>hindi</td>\n",
       "    </tr>\n",
       "    <tr>\n",
       "      <th>3111451</th>\n",
       "      <td>mainne gaur kiya hai ki yah n keval apne mahat...</td>\n",
       "      <td>hindi</td>\n",
       "    </tr>\n",
       "    <tr>\n",
       "      <th>3111452</th>\n",
       "      <td>unhonne mere samaksh jo pradarshan kiya usmen ...</td>\n",
       "      <td>hindi</td>\n",
       "    </tr>\n",
       "    <tr>\n",
       "      <th>3111453</th>\n",
       "      <td>khady aur jal suraksha paryavaran ki drishti s...</td>\n",
       "      <td>hindi</td>\n",
       "    </tr>\n",
       "  </tbody>\n",
       "</table>\n",
       "</div>"
      ],
      "text/plain": [
       "                                                      text  label\n",
       "3111449                     Members making oathaffirmation  hindi\n",
       "3111450  spashtikaranjhan is updhara ke adhin hani aur ...  hindi\n",
       "3111451  mainne gaur kiya hai ki yah n keval apne mahat...  hindi\n",
       "3111452  unhonne mere samaksh jo pradarshan kiya usmen ...  hindi\n",
       "3111453  khady aur jal suraksha paryavaran ki drishti s...  hindi"
      ]
     },
     "execution_count": 63,
     "metadata": {},
     "output_type": "execute_result"
    }
   ],
   "source": [
    "train_df.tail()"
   ]
  },
  {
   "cell_type": "markdown",
   "id": "d9cf7a62",
   "metadata": {},
   "source": [
    "## Import necessary libraries"
   ]
  },
  {
   "cell_type": "code",
   "execution_count": 36,
   "id": "b6a481aa",
   "metadata": {},
   "outputs": [],
   "source": [
    "from sklearn.feature_extraction.text import TfidfVectorizer\n",
    "from sklearn.model_selection import train_test_split\n",
    "from sklearn.linear_model import LogisticRegression\n",
    "from sklearn.metrics import confusion_matrix"
   ]
  },
  {
   "cell_type": "markdown",
   "id": "d0de279a",
   "metadata": {},
   "source": [
    "## Split Dataset into train and test"
   ]
  },
  {
   "cell_type": "code",
   "execution_count": 17,
   "id": "f68c65b7",
   "metadata": {},
   "outputs": [],
   "source": [
    "X_train, X_test, y_train, y_test = train_test_split(train_df['text'], train_df['label'],  test_size=0.2, random_state=42, stratify=train_df['label'])"
   ]
  },
  {
   "cell_type": "markdown",
   "id": "fd972f15",
   "metadata": {},
   "source": [
    "## Vectorize Text Data using TF-IDF Vectorizer"
   ]
  },
  {
   "cell_type": "code",
   "execution_count": 38,
   "id": "cd4bc573",
   "metadata": {},
   "outputs": [
    {
     "name": "stdout",
     "output_type": "stream",
     "text": [
      "(2489163, 431015)\n"
     ]
    }
   ],
   "source": [
    "vectorizer = TfidfVectorizer()\n",
    "X_train_vectors = vectorizer.fit_transform(X_train)\n",
    "X_test_vectors = vectorizer.transform(X_test)\n",
    "print(X_train_vectors.shape)"
   ]
  },
  {
   "cell_type": "markdown",
   "id": "4df14c29",
   "metadata": {},
   "source": [
    "## Define and Fit a simple Logistic Algorithm"
   ]
  },
  {
   "cell_type": "code",
   "execution_count": 39,
   "id": "bf10e58c",
   "metadata": {},
   "outputs": [
    {
     "name": "stderr",
     "output_type": "stream",
     "text": [
      "c:\\users\\laxmi.n.yelesetty\\virtualenvironments\\careerchoice\\lib\\site-packages\\sklearn\\linear_model\\_logistic.py:458: ConvergenceWarning: lbfgs failed to converge (status=1):\n",
      "STOP: TOTAL NO. of ITERATIONS REACHED LIMIT.\n",
      "\n",
      "Increase the number of iterations (max_iter) or scale the data as shown in:\n",
      "    https://scikit-learn.org/stable/modules/preprocessing.html\n",
      "Please also refer to the documentation for alternative solver options:\n",
      "    https://scikit-learn.org/stable/modules/linear_model.html#logistic-regression\n",
      "  n_iter_i = _check_optimize_result(\n"
     ]
    },
    {
     "data": {
      "text/html": [
       "<style>#sk-container-id-3 {color: black;background-color: white;}#sk-container-id-3 pre{padding: 0;}#sk-container-id-3 div.sk-toggleable {background-color: white;}#sk-container-id-3 label.sk-toggleable__label {cursor: pointer;display: block;width: 100%;margin-bottom: 0;padding: 0.3em;box-sizing: border-box;text-align: center;}#sk-container-id-3 label.sk-toggleable__label-arrow:before {content: \"▸\";float: left;margin-right: 0.25em;color: #696969;}#sk-container-id-3 label.sk-toggleable__label-arrow:hover:before {color: black;}#sk-container-id-3 div.sk-estimator:hover label.sk-toggleable__label-arrow:before {color: black;}#sk-container-id-3 div.sk-toggleable__content {max-height: 0;max-width: 0;overflow: hidden;text-align: left;background-color: #f0f8ff;}#sk-container-id-3 div.sk-toggleable__content pre {margin: 0.2em;color: black;border-radius: 0.25em;background-color: #f0f8ff;}#sk-container-id-3 input.sk-toggleable__control:checked~div.sk-toggleable__content {max-height: 200px;max-width: 100%;overflow: auto;}#sk-container-id-3 input.sk-toggleable__control:checked~label.sk-toggleable__label-arrow:before {content: \"▾\";}#sk-container-id-3 div.sk-estimator input.sk-toggleable__control:checked~label.sk-toggleable__label {background-color: #d4ebff;}#sk-container-id-3 div.sk-label input.sk-toggleable__control:checked~label.sk-toggleable__label {background-color: #d4ebff;}#sk-container-id-3 input.sk-hidden--visually {border: 0;clip: rect(1px 1px 1px 1px);clip: rect(1px, 1px, 1px, 1px);height: 1px;margin: -1px;overflow: hidden;padding: 0;position: absolute;width: 1px;}#sk-container-id-3 div.sk-estimator {font-family: monospace;background-color: #f0f8ff;border: 1px dotted black;border-radius: 0.25em;box-sizing: border-box;margin-bottom: 0.5em;}#sk-container-id-3 div.sk-estimator:hover {background-color: #d4ebff;}#sk-container-id-3 div.sk-parallel-item::after {content: \"\";width: 100%;border-bottom: 1px solid gray;flex-grow: 1;}#sk-container-id-3 div.sk-label:hover label.sk-toggleable__label {background-color: #d4ebff;}#sk-container-id-3 div.sk-serial::before {content: \"\";position: absolute;border-left: 1px solid gray;box-sizing: border-box;top: 0;bottom: 0;left: 50%;z-index: 0;}#sk-container-id-3 div.sk-serial {display: flex;flex-direction: column;align-items: center;background-color: white;padding-right: 0.2em;padding-left: 0.2em;position: relative;}#sk-container-id-3 div.sk-item {position: relative;z-index: 1;}#sk-container-id-3 div.sk-parallel {display: flex;align-items: stretch;justify-content: center;background-color: white;position: relative;}#sk-container-id-3 div.sk-item::before, #sk-container-id-3 div.sk-parallel-item::before {content: \"\";position: absolute;border-left: 1px solid gray;box-sizing: border-box;top: 0;bottom: 0;left: 50%;z-index: -1;}#sk-container-id-3 div.sk-parallel-item {display: flex;flex-direction: column;z-index: 1;position: relative;background-color: white;}#sk-container-id-3 div.sk-parallel-item:first-child::after {align-self: flex-end;width: 50%;}#sk-container-id-3 div.sk-parallel-item:last-child::after {align-self: flex-start;width: 50%;}#sk-container-id-3 div.sk-parallel-item:only-child::after {width: 0;}#sk-container-id-3 div.sk-dashed-wrapped {border: 1px dashed gray;margin: 0 0.4em 0.5em 0.4em;box-sizing: border-box;padding-bottom: 0.4em;background-color: white;}#sk-container-id-3 div.sk-label label {font-family: monospace;font-weight: bold;display: inline-block;line-height: 1.2em;}#sk-container-id-3 div.sk-label-container {text-align: center;}#sk-container-id-3 div.sk-container {/* jupyter's `normalize.less` sets `[hidden] { display: none; }` but bootstrap.min.css set `[hidden] { display: none !important; }` so we also need the `!important` here to be able to override the default hidden behavior on the sphinx rendered scikit-learn.org. See: https://github.com/scikit-learn/scikit-learn/issues/21755 */display: inline-block !important;position: relative;}#sk-container-id-3 div.sk-text-repr-fallback {display: none;}</style><div id=\"sk-container-id-3\" class=\"sk-top-container\"><div class=\"sk-text-repr-fallback\"><pre>LogisticRegression()</pre><b>In a Jupyter environment, please rerun this cell to show the HTML representation or trust the notebook. <br />On GitHub, the HTML representation is unable to render, please try loading this page with nbviewer.org.</b></div><div class=\"sk-container\" hidden><div class=\"sk-item\"><div class=\"sk-estimator sk-toggleable\"><input class=\"sk-toggleable__control sk-hidden--visually\" id=\"sk-estimator-id-3\" type=\"checkbox\" checked><label for=\"sk-estimator-id-3\" class=\"sk-toggleable__label sk-toggleable__label-arrow\">LogisticRegression</label><div class=\"sk-toggleable__content\"><pre>LogisticRegression()</pre></div></div></div></div></div>"
      ],
      "text/plain": [
       "LogisticRegression()"
      ]
     },
     "execution_count": 39,
     "metadata": {},
     "output_type": "execute_result"
    }
   ],
   "source": [
    "clf = LogisticRegression()\n",
    "clf.fit(X_train_vectors, y_train)"
   ]
  },
  {
   "cell_type": "markdown",
   "id": "4a6ec23b",
   "metadata": {},
   "source": [
    "## Checkout Accuracy"
   ]
  },
  {
   "cell_type": "code",
   "execution_count": 40,
   "id": "b56e754c",
   "metadata": {},
   "outputs": [
    {
     "name": "stdout",
     "output_type": "stream",
     "text": [
      "Accuracy: 0.9790853475303355\n"
     ]
    }
   ],
   "source": [
    "accuracy = clf.score(X_test_vectors, y_test)\n",
    "print(\"Accuracy:\", accuracy)"
   ]
  },
  {
   "cell_type": "markdown",
   "id": "043be1d1",
   "metadata": {},
   "source": [
    "## Look at Few Predictions"
   ]
  },
  {
   "cell_type": "code",
   "execution_count": 61,
   "id": "d77dd585",
   "metadata": {},
   "outputs": [
    {
     "name": "stdout",
     "output_type": "stream",
     "text": [
      "Predictions for Hindi\n",
      " ####################################################################################################\n"
     ]
    },
    {
     "name": "stderr",
     "output_type": "stream",
     "text": [
      "100%|███████████████████████████████████████████████████████████████████████████████████████████████████████████████████████████████| 2/2 [00:00<?, ?it/s]"
     ]
    },
    {
     "name": "stdout",
     "output_type": "stream",
     "text": [
      "Given Hindi Texts -> ['मे वहाँ खेल रहा हुाा', 'आप बहुत सुन्दर हो'] , Transilerated Text -> ['me vahan khel raha huaa', 'aap bahut sundar ho']\n",
      "Prediction: ['hindi' 'hindi']\n",
      "\n",
      "Predictions for English\n",
      " ####################################################################################################\n",
      "Input English Texts - ['I am feeling so sad today', 'This is not the way tyou speak to your superiors']\n",
      "Prediction: ['english' 'english']\n"
     ]
    },
    {
     "name": "stderr",
     "output_type": "stream",
     "text": [
      "\n"
     ]
    }
   ],
   "source": [
    "print(\"Predictions for Hindi\\n\",'#'*100)\n",
    "new_hindi_texts = ['मे वहाँ खेल रहा हुाा', 'आप बहुत सुन्दर हो']\n",
    "transilerated_text = convert_from_devanagiri_to_roman(new_hindi_texts, vowels, consonants)\n",
    "print(f\"Given Hindi Texts -> {new_hindi_texts} , Transilerated Texts -> {transilerated_text}\")\n",
    "new_text_vectors = vectorizer.transform(transilerated_text)\n",
    "prediction = clf.predict(new_text_vectors)\n",
    "print(\"Prediction:\", prediction)\n",
    "print(\"\\nPredictions for English\\n\",'#'*100)\n",
    "english_text = ['I am feeling so sad today', 'This is not the way tyou speak to your superiors']\n",
    "print(f\"Input English Texts - {english_text}\")\n",
    "new_text_vectors = vectorizer.transform(english_text)\n",
    "prediction = clf.predict(new_text_vectors)\n",
    "print(\"Prediction:\", prediction)"
   ]
  },
  {
   "cell_type": "markdown",
   "id": "bc755639",
   "metadata": {},
   "source": [
    "## Confusion Matrix"
   ]
  },
  {
   "cell_type": "code",
   "execution_count": 68,
   "id": "cc7e9ea5",
   "metadata": {},
   "outputs": [
    {
     "data": {
      "image/png": "[encoded data removed]",
      "text/plain": [
       "<Figure size 900x900 with 2 Axes>"
      ]
     },
     "metadata": {},
     "output_type": "display_data"
    }
   ],
   "source": [
    "import matplotlib.pyplot as plt\n",
    "import seaborn as sns\n",
    "y_pred = clf.predict(X_test_vectors)\n",
    "cm = confusion_matrix(y_test, y_pred)\n",
    "\n",
    "plt.figure(figsize=(9,9))\n",
    "sns.heatmap(cm, annot=True, fmt=\".3f\", linewidths=.5, square = True, cmap = 'Blues_r');\n",
    "plt.ylabel('Actual label');\n",
    "plt.xlabel('Predicted label');\n",
    "all_sample_title = 'Accuracy Score: {0}'.format(accuracy)\n",
    "plt.title(all_sample_title, size = 15);"
   ]
  },
  {
   "cell_type": "code",
   "execution_count": null,
   "id": "08aa4edf",
   "metadata": {},
   "outputs": [],
   "source": []
  }
 ],
 "metadata": {
  "kernelspec": {
   "display_name": "Python 3 (ipykernel)",
   "language": "python",
   "name": "python3"
  },
  "language_info": {
   "codemirror_mode": {
    "name": "ipython",
    "version": 3
   },
   "file_extension": ".py",
   "mimetype": "text/x-python",
   "name": "python",
   "nbconvert_exporter": "python",
   "pygments_lexer": "ipython3",
   "version": "3.10.0"
  },
  "toc": {
   "base_numbering": 1,
   "nav_menu": {},
   "number_sections": true,
   "sideBar": true,
   "skip_h1_title": false,
   "title_cell": "Table of Contents",
   "title_sidebar": "Contents",
   "toc_cell": false,
   "toc_position": {},
   "toc_section_display": true,
   "toc_window_display": false
  }
 },
 "nbformat": 4,
 "nbformat_minor": 5
}
